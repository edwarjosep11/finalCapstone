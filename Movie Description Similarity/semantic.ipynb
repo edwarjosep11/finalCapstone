{
 "cells": [
  {
   "cell_type": "code",
   "execution_count": 8,
   "metadata": {},
   "outputs": [
    {
     "name": "stdout",
     "output_type": "stream",
     "text": [
      "0.5929930274321619\n",
      "0.40415016164997786\n",
      "0.22358825939615987\n",
      "0.8220816752553904\n"
     ]
    }
   ],
   "source": [
    "import spacy\n",
    "nlp = spacy.load('en_core_web_md')\n",
    "word1 = nlp(\"cat\")\n",
    "word2 = nlp(\"monkey\")\n",
    "word3 = nlp(\"banana\")\n",
    "word4 = nlp(\"dog\")\n",
    "print(word1.similarity(word2))\n",
    "print(word3.similarity(word2))\n",
    "print(word3.similarity(word1))\n",
    "print(word1.similarity(word4))"
   ]
  },
  {
   "attachments": {},
   "cell_type": "markdown",
   "metadata": {},
   "source": [
    "# **Insights**\n",
    "\n",
    "* The similarity score between \"cat\" and \"monkey\" is higher than expected, indicating that these two words share some semantic properties. This could be because they are both animals, or because they have some physical or behavioral similarities.\n",
    "\n",
    "* The similarity score between \"banana\" and \"monkey\" is lower than expected, which suggests that these two words have less in common in terms of their semantic properties.\n",
    "\n",
    "* The similarity score between \"cat\" and \"dog\" is relatively high, which is not surprising given that these two words are both common household pets and share some physical and behavioral characteristics.\n",
    "\n"
   ]
  },
  {
   "cell_type": "code",
   "execution_count": 7,
   "metadata": {},
   "outputs": [
    {
     "name": "stdout",
     "output_type": "stream",
     "text": [
      "where did my dog go -  0.630065230699739\n",
      "Hello, there is my car -  0.8033180111627156\n",
      "I've lost my car in my car -  0.6787541571030323\n",
      "I'd like my boat back -  0.5624940517078084\n",
      "I will name my dog Diana -  0.6491444739190607\n"
     ]
    }
   ],
   "source": [
    "sentence_to_compare = \"Why is my cat on the car\"\n",
    "sentences = [\"where did my dog go\",\n",
    "\"Hello, there is my car\",\n",
    "\"I\\'ve lost my car in my car\",\n",
    "\"I\\'d like my boat back\",\n",
    "\"I will name my dog Diana\"]\n",
    "model_sentence = nlp(sentence_to_compare)\n",
    "for sentence in sentences:\n",
    "    similarity = nlp(sentence).similarity(model_sentence)\n",
    "    print(sentence + \" - \", similarity)"
   ]
  },
  {
   "attachments": {},
   "cell_type": "markdown",
   "metadata": {},
   "source": [
    "# **Insights**\n",
    "\n",
    "The sentence \"Hello, there is my car\" has the highest similarity score (0.803) with the input sentence, which is expected since both sentences mention the word \"car\" and have a similar structure.\n",
    "\n",
    "The sentence \"I'd like my boat back\" has the lowest similarity score (0.562) with the input sentence, which is also expected since the two sentences have very little in common in terms of their content or structure.\n",
    "\n",
    "The other sentences have intermediate similarity scores ranging from 0.630 to 0.679, which suggests that they have some shared semantic properties with the input sentence, but also some differences."
   ]
  },
  {
   "attachments": {},
   "cell_type": "markdown",
   "metadata": {},
   "source": [
    "# **Difference between en_core_web_sm and en_core_web_md Model**\n",
    "\n",
    "The main difference between the 'en_core_web_sm' and 'en_core_web_md' models in SpaCy is their size and the amount of training data used to create them. The 'en_core_web_sm' model is a small model that uses a smaller number of embeddings and fewer parameters, making it faster and more lightweight than the larger 'en_core_web_md' model.\n",
    "\n",
    "* If speed and efficiency are important, the 'en_core_web_sm' model might be a good choice. \n",
    "* If accuracy and the ability to handle more complex language structures are essential, the 'en_core_web_md' model might be a better option."
   ]
  }
 ],
 "metadata": {
  "kernelspec": {
   "display_name": "Python 3",
   "language": "python",
   "name": "python3"
  },
  "language_info": {
   "codemirror_mode": {
    "name": "ipython",
    "version": 3
   },
   "file_extension": ".py",
   "mimetype": "text/x-python",
   "name": "python",
   "nbconvert_exporter": "python",
   "pygments_lexer": "ipython3",
   "version": "3.10.4"
  },
  "orig_nbformat": 4
 },
 "nbformat": 4,
 "nbformat_minor": 2
}
