{
 "cells": [
  {
   "cell_type": "code",
   "execution_count": 1,
   "metadata": {},
   "outputs": [],
   "source": [
    "# Importing the libraries\n",
    "import spacy\n",
    "import pandas as pd"
   ]
  },
  {
   "cell_type": "code",
   "execution_count": 2,
   "metadata": {},
   "outputs": [],
   "source": [
    "# Initializing the spacy model\n",
    "nlp = spacy.load('en_core_web_md')"
   ]
  },
  {
   "cell_type": "code",
   "execution_count": 6,
   "metadata": {},
   "outputs": [
    {
     "data": {
      "text/html": [
       "<div>\n",
       "<style scoped>\n",
       "    .dataframe tbody tr th:only-of-type {\n",
       "        vertical-align: middle;\n",
       "    }\n",
       "\n",
       "    .dataframe tbody tr th {\n",
       "        vertical-align: top;\n",
       "    }\n",
       "\n",
       "    .dataframe thead th {\n",
       "        text-align: right;\n",
       "    }\n",
       "</style>\n",
       "<table border=\"1\" class=\"dataframe\">\n",
       "  <thead>\n",
       "    <tr style=\"text-align: right;\">\n",
       "      <th></th>\n",
       "      <th>0</th>\n",
       "    </tr>\n",
       "  </thead>\n",
       "  <tbody>\n",
       "    <tr>\n",
       "      <th>0</th>\n",
       "      <td>Movie A :When Hiccup discovers Toothless isn't...</td>\n",
       "    </tr>\n",
       "    <tr>\n",
       "      <th>1</th>\n",
       "      <td>Movie B :After the death of Superman, several ...</td>\n",
       "    </tr>\n",
       "    <tr>\n",
       "      <th>2</th>\n",
       "      <td>Movie C :A darkness swirls at the center of a ...</td>\n",
       "    </tr>\n",
       "    <tr>\n",
       "      <th>3</th>\n",
       "      <td>Movie D :A humorous take on Sir Arthur Conan D...</td>\n",
       "    </tr>\n",
       "    <tr>\n",
       "      <th>4</th>\n",
       "      <td>Movie E :A 16-year-old girl and her extended f...</td>\n",
       "    </tr>\n",
       "    <tr>\n",
       "      <th>5</th>\n",
       "      <td>Movie F :In the last moments of World War II, ...</td>\n",
       "    </tr>\n",
       "    <tr>\n",
       "      <th>6</th>\n",
       "      <td>Movie G :The world at an end, a dying mother s...</td>\n",
       "    </tr>\n",
       "    <tr>\n",
       "      <th>7</th>\n",
       "      <td>Movie H :A musician helps a young singer and a...</td>\n",
       "    </tr>\n",
       "    <tr>\n",
       "      <th>8</th>\n",
       "      <td>Movie I :Corporate analyst and single mom, Jen...</td>\n",
       "    </tr>\n",
       "    <tr>\n",
       "      <th>9</th>\n",
       "      <td>Movie J :Adapted from the bestselling novel by...</td>\n",
       "    </tr>\n",
       "  </tbody>\n",
       "</table>\n",
       "</div>"
      ],
      "text/plain": [
       "                                                   0\n",
       "0  Movie A :When Hiccup discovers Toothless isn't...\n",
       "1  Movie B :After the death of Superman, several ...\n",
       "2  Movie C :A darkness swirls at the center of a ...\n",
       "3  Movie D :A humorous take on Sir Arthur Conan D...\n",
       "4  Movie E :A 16-year-old girl and her extended f...\n",
       "5  Movie F :In the last moments of World War II, ...\n",
       "6  Movie G :The world at an end, a dying mother s...\n",
       "7  Movie H :A musician helps a young singer and a...\n",
       "8  Movie I :Corporate analyst and single mom, Jen...\n",
       "9  Movie J :Adapted from the bestselling novel by..."
      ]
     },
     "execution_count": 6,
     "metadata": {},
     "output_type": "execute_result"
    }
   ],
   "source": [
    "# load the data\n",
    "data = pd.read_csv('movies.txt', sep='\\t', header=None)\n",
    "data"
   ]
  },
  {
   "cell_type": "code",
   "execution_count": 9,
   "metadata": {},
   "outputs": [
    {
     "data": {
      "text/plain": [
       "['Movie A :When Hiccup discovers Toothless isn\\'t the only Night Fury, he must seek \"The Hidden World\", a secret Dragon Utopia before a hired tyrant named Grimmel finds it first.',\n",
       " 'Movie B :After the death of Superman, several new people present themselves as possible successors.',\n",
       " 'Movie C :A darkness swirls at the center of a world-renowned dance company, one that will engulf the artistic director, an ambitious young dancer, and a grieving psychotherapist. Some will succumb to the nightmare. Others will finally wake up.',\n",
       " \"Movie D :A humorous take on Sir Arthur Conan Doyle's classic mysteries featuring Sherlock Holmes and Doctor Watson.\",\n",
       " 'Movie E :A 16-year-old girl and her extended family are left reeling after her calculating grandmother unveils an array of secrets on her deathbed.',\n",
       " \"Movie F :In the last moments of World War II, a young German soldier fighting for survival finds a Nazi captain's uniform. Impersonating an officer, the man quickly takes on the monstrous identity of the perpetrators he is trying to escape from.\",\n",
       " 'Movie G :The world at an end, a dying mother sends her young son on a quest to find the place that grants wishes.',\n",
       " 'Movie H :A musician helps a young singer and actress find fame, even as age and alcoholism send his own career into a downward spiral.',\n",
       " 'Movie I :Corporate analyst and single mom, Jen, tackles Christmas with a business-like approach until her uncle arrives with a handsome stranger in tow.',\n",
       " 'Movie J :Adapted from the bestselling novel by Madeleine St John, Ladies in Black is an alluring and tender-hearted comedy drama about the lives of a group of department store employees in 1959 Sydney.']"
      ]
     },
     "execution_count": 9,
     "metadata": {},
     "output_type": "execute_result"
    }
   ],
   "source": [
    "# Convert the data to a list\n",
    "movies = data[0].tolist()\n",
    "movies"
   ]
  },
  {
   "cell_type": "code",
   "execution_count": 49,
   "metadata": {},
   "outputs": [],
   "source": [
    "\"\"\"Function to find the most similar movie to a description\"\"\"\n",
    "def next_movie(description):\n",
    "    max_similarity = 0\n",
    "    # Loop through the movies\n",
    "    for movie in movies:\n",
    "        # Calculate the similarity\n",
    "        similarity = nlp(movie).similarity(nlp(description))\n",
    "        # Check if the similarity is greater than the max_similarity\n",
    "        if similarity > max_similarity:\n",
    "            # If so, update the max_similarity and the movie\n",
    "            max_similarity = similarity\n",
    "    # Return the movie with the highest similarity\n",
    "    return print('The most similar movie is:', movie[0:7], '- with a similarity of:', round(max_similarity, 2))"
   ]
  },
  {
   "cell_type": "code",
   "execution_count": 50,
   "metadata": {},
   "outputs": [
    {
     "name": "stdout",
     "output_type": "stream",
     "text": [
      "The most similar movie is: Movie J - with a similarity of: 0.88\n"
     ]
    }
   ],
   "source": [
    "# Test the function\n",
    "next_movie(\"\"\"Will he save\n",
    "their world or destroy it? When the Hulk becomes too dangerous for the\n",
    "Earth, the Illuminati trick Hulk into a shuttle and launch him into space to a\n",
    "planet where the Hulk can live in peace. Unfortunately, Hulk lands on the\n",
    "planet Sakaar where he is sold into slavery and trained as a gladiator\"\"\")"
   ]
  }
 ],
 "metadata": {
  "kernelspec": {
   "display_name": "Python 3",
   "language": "python",
   "name": "python3"
  },
  "language_info": {
   "codemirror_mode": {
    "name": "ipython",
    "version": 3
   },
   "file_extension": ".py",
   "mimetype": "text/x-python",
   "name": "python",
   "nbconvert_exporter": "python",
   "pygments_lexer": "ipython3",
   "version": "3.10.4"
  },
  "orig_nbformat": 4
 },
 "nbformat": 4,
 "nbformat_minor": 2
}
